{
  "nbformat": 4,
  "nbformat_minor": 0,
  "metadata": {
    "colab": {
      "name": "Human Activity Recognition with Smart Phones",
      "provenance": [],
      "collapsed_sections": []
    },
    "kernelspec": {
      "name": "python3",
      "display_name": "Python 3"
    }
  },
  "cells": [
    {
      "cell_type": "markdown",
      "metadata": {
        "id": "gjMeBnAWfvaZ",
        "colab_type": "text"
      },
      "source": [
        "# **Human Activity Recognition with Smart Phones**:\n",
        "\n"
      ]
    },
    {
      "cell_type": "markdown",
      "metadata": {
        "id": "Tro4_NPBf3i5",
        "colab_type": "text"
      },
      "source": [
        "**Dataset**:\n",
        "\n",
        "The Human Activity Recognition database was built from the recordings of 30 study participants performing activities of daily living (ADL) while carrying a waist-mounted smartphone with embedded inertial sensors. \n",
        "For each record in the dataset the following is provided:\n",
        "\n",
        "1. Triaxial acceleration from the accelerometer (total acceleration) and   the estimated body acceleration.\n",
        "\n",
        "2. Triaxial Angular velocity from the gyroscope.\n",
        "\n",
        "3. A 561-feature vector with time and frequency domain variables.\n",
        "\n",
        "4. Its activity label.\n",
        "\n",
        "5. An identifier of the subject who carried out the experiment."
      ]
    },
    {
      "cell_type": "markdown",
      "metadata": {
        "id": "6KzuYpITgREs",
        "colab_type": "text"
      },
      "source": [
        "**Target:**\n",
        "\n",
        "The objective is to classify activities into one of the six activities performed."
      ]
    },
    {
      "cell_type": "markdown",
      "metadata": {
        "id": "pUYOXRqighQ4",
        "colab_type": "text"
      },
      "source": [
        "**Approach**:\n",
        "\n",
        "Applied Dimensionality Reduction and Trained model using Convolutional Neural Network.  "
      ]
    },
    {
      "cell_type": "markdown",
      "metadata": {
        "id": "Wr0qEIer2Hbr",
        "colab_type": "text"
      },
      "source": [
        "# **Importing Libraries**"
      ]
    },
    {
      "cell_type": "code",
      "metadata": {
        "id": "bYh0yioKpW4X",
        "colab_type": "code",
        "colab": {}
      },
      "source": [
        "import numpy as np\n",
        "import pandas as pd\n",
        "import matplotlib.pyplot as plt\n",
        "import seaborn as sns"
      ],
      "execution_count": null,
      "outputs": []
    },
    {
      "cell_type": "markdown",
      "metadata": {
        "id": "8eph8OSO2vZp",
        "colab_type": "text"
      },
      "source": [
        "# **Importing Dataset**"
      ]
    },
    {
      "cell_type": "code",
      "metadata": {
        "id": "ZaKyg8y-2rnw",
        "colab_type": "code",
        "colab": {}
      },
      "source": [
        "train=pd.read_csv(\"/content/drive/My Drive/ML Projects datasets/Human Activity Recognition/train.csv\")\n",
        "test=pd.read_csv(\"/content/drive/My Drive/ML Projects datasets/Human Activity Recognition/test.csv\")"
      ],
      "execution_count": null,
      "outputs": []
    },
    {
      "cell_type": "code",
      "metadata": {
        "id": "qaPNK7Pm3NnB",
        "colab_type": "code",
        "colab": {
          "base_uri": "https://localhost:8080/",
          "height": 35
        },
        "outputId": "e05fc24b-8c49-4586-e2e3-17b418b7011b"
      },
      "source": [
        "train.shape"
      ],
      "execution_count": null,
      "outputs": [
        {
          "output_type": "execute_result",
          "data": {
            "text/plain": [
              "(7352, 563)"
            ]
          },
          "metadata": {
            "tags": []
          },
          "execution_count": 38
        }
      ]
    },
    {
      "cell_type": "code",
      "metadata": {
        "id": "gC0Y5xKV3QLL",
        "colab_type": "code",
        "colab": {
          "base_uri": "https://localhost:8080/",
          "height": 35
        },
        "outputId": "c05839bc-d05e-4465-8329-bfed75c413fa"
      },
      "source": [
        "test.shape"
      ],
      "execution_count": null,
      "outputs": [
        {
          "output_type": "execute_result",
          "data": {
            "text/plain": [
              "(2947, 563)"
            ]
          },
          "metadata": {
            "tags": []
          },
          "execution_count": 39
        }
      ]
    },
    {
      "cell_type": "code",
      "metadata": {
        "id": "CSUW5MAW5GMO",
        "colab_type": "code",
        "colab": {
          "base_uri": "https://localhost:8080/",
          "height": 104
        },
        "outputId": "93e61952-4eca-44e7-84e3-54914f0ae483"
      },
      "source": [
        "train.info()"
      ],
      "execution_count": null,
      "outputs": [
        {
          "output_type": "stream",
          "text": [
            "<class 'pandas.core.frame.DataFrame'>\n",
            "RangeIndex: 7352 entries, 0 to 7351\n",
            "Columns: 563 entries, tBodyAcc-mean()-X to Activity\n",
            "dtypes: float64(561), int64(1), object(1)\n",
            "memory usage: 31.6+ MB\n"
          ],
          "name": "stdout"
        }
      ]
    },
    {
      "cell_type": "code",
      "metadata": {
        "id": "5NC4Zd5p5Hro",
        "colab_type": "code",
        "colab": {
          "base_uri": "https://localhost:8080/",
          "height": 260
        },
        "outputId": "3642e367-6916-42c0-ddca-bce3310bedf2"
      },
      "source": [
        "print(train)"
      ],
      "execution_count": null,
      "outputs": [
        {
          "output_type": "stream",
          "text": [
            "      tBodyAcc-mean()-X  tBodyAcc-mean()-Y  ...  subject          Activity\n",
            "0              0.288585          -0.020294  ...        1          STANDING\n",
            "1              0.278419          -0.016411  ...        1          STANDING\n",
            "2              0.279653          -0.019467  ...        1          STANDING\n",
            "3              0.279174          -0.026201  ...        1          STANDING\n",
            "4              0.276629          -0.016570  ...        1          STANDING\n",
            "...                 ...                ...  ...      ...               ...\n",
            "7347           0.299665          -0.057193  ...       30  WALKING_UPSTAIRS\n",
            "7348           0.273853          -0.007749  ...       30  WALKING_UPSTAIRS\n",
            "7349           0.273387          -0.017011  ...       30  WALKING_UPSTAIRS\n",
            "7350           0.289654          -0.018843  ...       30  WALKING_UPSTAIRS\n",
            "7351           0.351503          -0.012423  ...       30  WALKING_UPSTAIRS\n",
            "\n",
            "[7352 rows x 563 columns]\n"
          ],
          "name": "stdout"
        }
      ]
    },
    {
      "cell_type": "markdown",
      "metadata": {
        "id": "74xBcMqz4W6E",
        "colab_type": "text"
      },
      "source": [
        "# **Checking for Null values**"
      ]
    },
    {
      "cell_type": "code",
      "metadata": {
        "id": "YXtSYJRv3gS6",
        "colab_type": "code",
        "colab": {
          "base_uri": "https://localhost:8080/",
          "height": 225
        },
        "outputId": "4c4cac9f-96c6-4040-b92c-b88bcdec61ed"
      },
      "source": [
        "train.isnull().sum()"
      ],
      "execution_count": null,
      "outputs": [
        {
          "output_type": "execute_result",
          "data": {
            "text/plain": [
              "tBodyAcc-mean()-X       0\n",
              "tBodyAcc-mean()-Y       0\n",
              "tBodyAcc-mean()-Z       0\n",
              "tBodyAcc-std()-X        0\n",
              "tBodyAcc-std()-Y        0\n",
              "                       ..\n",
              "angle(X,gravityMean)    0\n",
              "angle(Y,gravityMean)    0\n",
              "angle(Z,gravityMean)    0\n",
              "subject                 0\n",
              "Activity                0\n",
              "Length: 563, dtype: int64"
            ]
          },
          "metadata": {
            "tags": []
          },
          "execution_count": 42
        }
      ]
    },
    {
      "cell_type": "code",
      "metadata": {
        "id": "lGrpTScF4kt8",
        "colab_type": "code",
        "colab": {
          "base_uri": "https://localhost:8080/",
          "height": 35
        },
        "outputId": "6b0f9d7e-263f-44f1-d71d-97b4d929b9b1"
      },
      "source": [
        "train.isnull().values.any()"
      ],
      "execution_count": null,
      "outputs": [
        {
          "output_type": "execute_result",
          "data": {
            "text/plain": [
              "False"
            ]
          },
          "metadata": {
            "tags": []
          },
          "execution_count": 43
        }
      ]
    },
    {
      "cell_type": "markdown",
      "metadata": {
        "id": "FC0nIy6nBCC1",
        "colab_type": "text"
      },
      "source": [
        "# **Splitting Data into X and y**"
      ]
    },
    {
      "cell_type": "code",
      "metadata": {
        "id": "cKahfct94uYa",
        "colab_type": "code",
        "colab": {}
      },
      "source": [
        "X_train=train.iloc[:,:-2]\n",
        "y_train=train.iloc[:,-1]\n",
        "\n",
        "X_test=test.iloc[:,:-2]\n",
        "y_test=test.iloc[:,-1]"
      ],
      "execution_count": null,
      "outputs": []
    },
    {
      "cell_type": "code",
      "metadata": {
        "id": "R0KIpFeUFLfp",
        "colab_type": "code",
        "colab": {
          "base_uri": "https://localhost:8080/",
          "height": 225
        },
        "outputId": "98cd8ddb-02db-44c7-9ffe-ee6e7b079ecd"
      },
      "source": [
        "print(y_train)"
      ],
      "execution_count": null,
      "outputs": [
        {
          "output_type": "stream",
          "text": [
            "0               STANDING\n",
            "1               STANDING\n",
            "2               STANDING\n",
            "3               STANDING\n",
            "4               STANDING\n",
            "              ...       \n",
            "7347    WALKING_UPSTAIRS\n",
            "7348    WALKING_UPSTAIRS\n",
            "7349    WALKING_UPSTAIRS\n",
            "7350    WALKING_UPSTAIRS\n",
            "7351    WALKING_UPSTAIRS\n",
            "Name: Activity, Length: 7352, dtype: object\n"
          ],
          "name": "stdout"
        }
      ]
    },
    {
      "cell_type": "markdown",
      "metadata": {
        "id": "xp3t33WTtx84",
        "colab_type": "text"
      },
      "source": [
        "# **EDA**"
      ]
    },
    {
      "cell_type": "markdown",
      "metadata": {
        "id": "0QU0kthQDkph",
        "colab_type": "text"
      },
      "source": [
        "# **Plotting Categorized Pie Chart**"
      ]
    },
    {
      "cell_type": "code",
      "metadata": {
        "id": "pPy3O35ZETB2",
        "colab_type": "code",
        "colab": {}
      },
      "source": [
        "Category_count=np.array(y_train.value_counts())\n",
        "activity=sorted(y_train.unique())"
      ],
      "execution_count": null,
      "outputs": []
    },
    {
      "cell_type": "code",
      "metadata": {
        "id": "kp4nFZBeBgFI",
        "colab_type": "code",
        "colab": {
          "base_uri": "https://localhost:8080/",
          "height": 303
        },
        "outputId": "c6888765-a9f1-4663-d280-b22cb221d56d"
      },
      "source": [
        "plt.figure(figsize=(15,5))\n",
        "plt.pie(Category_count,labels=activity);"
      ],
      "execution_count": null,
      "outputs": [
        {
          "output_type": "display_data",
          "data": {
            "image/png": "[encoded data removed]",
            "text/plain": [
              "<Figure size 1080x360 with 1 Axes>"
            ]
          },
          "metadata": {
            "tags": []
          }
        }
      ]
    },
    {
      "cell_type": "markdown",
      "metadata": {
        "id": "nN-bxrKcw7QE",
        "colab_type": "text"
      },
      "source": [
        "**Distribution of sensors data used to classify activities**"
      ]
    },
    {
      "cell_type": "code",
      "metadata": {
        "id": "f1nHd_4cDyMo",
        "colab_type": "code",
        "colab": {}
      },
      "source": [
        "acc=0\n",
        "gyro=0\n",
        "others=0\n",
        "for column in train.columns:\n",
        "  if \"Acc\" in str(column):\n",
        "    acc+=1\n",
        "  elif \"Gyro\" in str(column):\n",
        "    gyro+=1 \n",
        "  else:\n",
        "    others+=1\n",
        "       "
      ],
      "execution_count": null,
      "outputs": []
    },
    {
      "cell_type": "code",
      "metadata": {
        "id": "oeYw6w6YHiwf",
        "colab_type": "code",
        "colab": {
          "base_uri": "https://localhost:8080/",
          "height": 501
        },
        "outputId": "7f3a0751-f9ed-425a-9420-92299bbf331c"
      },
      "source": [
        "plt.figure(figsize=(12,8))\n",
        "plt.bar(['Accelerometer','Gyrometer','Others'],[acc,gyro,others],color=['r','g','b'])"
      ],
      "execution_count": null,
      "outputs": [
        {
          "output_type": "execute_result",
          "data": {
            "text/plain": [
              "<BarContainer object of 3 artists>"
            ]
          },
          "metadata": {
            "tags": []
          },
          "execution_count": 49
        },
        {
          "output_type": "display_data",
          "data": {
            "image/png": "[encoded data removed]",
            "text/plain": [
              "<Figure size 864x576 with 1 Axes>"
            ]
          },
          "metadata": {
            "tags": [],
            "needs_background": "light"
          }
        }
      ]
    },
    {
      "cell_type": "markdown",
      "metadata": {
        "id": "Ph2M6QEsDtrB",
        "colab_type": "text"
      },
      "source": [
        "# **Feature Scaling**"
      ]
    },
    {
      "cell_type": "code",
      "metadata": {
        "id": "OAhQ9DamIGwh",
        "colab_type": "code",
        "colab": {}
      },
      "source": [
        "from sklearn.preprocessing import StandardScaler\n",
        "sc=StandardScaler()\n",
        "X_train=sc.fit_transform(X_train)\n",
        "X_test=sc.transform(X_test)\n"
      ],
      "execution_count": null,
      "outputs": []
    },
    {
      "cell_type": "markdown",
      "metadata": {
        "id": "-HsLHlSQEagd",
        "colab_type": "text"
      },
      "source": [
        "# **Label Encoding**"
      ]
    },
    {
      "cell_type": "code",
      "metadata": {
        "id": "2lQLQVGjEPX7",
        "colab_type": "code",
        "colab": {
          "base_uri": "https://localhost:8080/",
          "height": 225
        },
        "outputId": "6f9ac27b-0d8a-4571-95bc-74679801d90c"
      },
      "source": [
        "print(y_train)"
      ],
      "execution_count": null,
      "outputs": [
        {
          "output_type": "stream",
          "text": [
            "0               STANDING\n",
            "1               STANDING\n",
            "2               STANDING\n",
            "3               STANDING\n",
            "4               STANDING\n",
            "              ...       \n",
            "7347    WALKING_UPSTAIRS\n",
            "7348    WALKING_UPSTAIRS\n",
            "7349    WALKING_UPSTAIRS\n",
            "7350    WALKING_UPSTAIRS\n",
            "7351    WALKING_UPSTAIRS\n",
            "Name: Activity, Length: 7352, dtype: object\n"
          ],
          "name": "stdout"
        }
      ]
    },
    {
      "cell_type": "code",
      "metadata": {
        "id": "IjCi9RybNZ_I",
        "colab_type": "code",
        "colab": {}
      },
      "source": [
        "from sklearn.preprocessing import LabelEncoder\n",
        "encoder=LabelEncoder()\n",
        "y_train=encoder.fit_transform(y_train)\n",
        "y_train=pd.get_dummies(y_train).values"
      ],
      "execution_count": null,
      "outputs": []
    },
    {
      "cell_type": "code",
      "metadata": {
        "id": "gq301LusEjK3",
        "colab_type": "code",
        "colab": {
          "base_uri": "https://localhost:8080/",
          "height": 139
        },
        "outputId": "41431dab-a5fe-48cb-af2c-2eb489af05a9"
      },
      "source": [
        "print(y_train)"
      ],
      "execution_count": null,
      "outputs": [
        {
          "output_type": "stream",
          "text": [
            "[[0 0 1 0 0 0]\n",
            " [0 0 1 0 0 0]\n",
            " [0 0 1 0 0 0]\n",
            " ...\n",
            " [0 0 0 0 0 1]\n",
            " [0 0 0 0 0 1]\n",
            " [0 0 0 0 0 1]]\n"
          ],
          "name": "stdout"
        }
      ]
    },
    {
      "cell_type": "code",
      "metadata": {
        "id": "nJlnTT31EoUJ",
        "colab_type": "code",
        "colab": {}
      },
      "source": [
        "from sklearn.preprocessing import LabelEncoder\n",
        "encoder=LabelEncoder()\n",
        "y_test=encoder.fit_transform(y_test)\n",
        "y_test=pd.get_dummies(y_test).values"
      ],
      "execution_count": null,
      "outputs": []
    },
    {
      "cell_type": "markdown",
      "metadata": {
        "id": "x99diRxlLBeT",
        "colab_type": "text"
      },
      "source": [
        "# **Dimensionality Reduction**"
      ]
    },
    {
      "cell_type": "code",
      "metadata": {
        "id": "3sfmb5AwHdLR",
        "colab_type": "code",
        "colab": {}
      },
      "source": [
        "from sklearn.decomposition import PCA\n",
        "pca=PCA(n_components=None)\n",
        "X_train=pca.fit_transform(X_train)\n",
        "X_test=pca.transform(X_test)\n",
        "explained_variance=pca.explained_variance_ratio_"
      ],
      "execution_count": null,
      "outputs": []
    },
    {
      "cell_type": "code",
      "metadata": {
        "id": "k-EhqJnBKnh3",
        "colab_type": "code",
        "colab": {
          "base_uri": "https://localhost:8080/",
          "height": 1000
        },
        "outputId": "8d62e293-3db6-40ed-8684-f2f731cdcc9a"
      },
      "source": [
        "explained_variance"
      ],
      "execution_count": null,
      "outputs": [
        {
          "output_type": "execute_result",
          "data": {
            "text/plain": [
              "array([5.07811723e-01, 6.58068027e-02, 2.80643677e-02, 2.50395275e-02,\n",
              "       1.88828501e-02, 1.72400642e-02, 1.37101147e-02, 1.19907768e-02,\n",
              "       9.95859511e-03, 9.65086590e-03, 8.60051649e-03, 8.00280950e-03,\n",
              "       7.63996369e-03, 6.45328924e-03, 6.32324346e-03, 5.99722090e-03,\n",
              "       5.86750302e-03, 5.75407392e-03, 5.67921047e-03, 5.27295779e-03,\n",
              "       5.00362925e-03, 4.88408406e-03, 4.78205784e-03, 4.68562930e-03,\n",
              "       4.49289260e-03, 4.21027243e-03, 4.17978682e-03, 4.05570369e-03,\n",
              "       3.88524168e-03, 3.87018044e-03, 3.65958878e-03, 3.54553381e-03,\n",
              "       3.47942606e-03, 3.37187109e-03, 3.29676999e-03, 3.28215050e-03,\n",
              "       3.20529478e-03, 2.95614939e-03, 2.86722415e-03, 2.85074548e-03,\n",
              "       2.68766324e-03, 2.65619859e-03, 2.63405989e-03, 2.58850596e-03,\n",
              "       2.49054872e-03, 2.46954034e-03, 2.40679913e-03, 2.36115075e-03,\n",
              "       2.30278857e-03, 2.27567245e-03, 2.20164699e-03, 2.13466984e-03,\n",
              "       2.07704456e-03, 2.02496620e-03, 1.99779441e-03, 1.97750625e-03,\n",
              "       1.94273627e-03, 1.90237160e-03, 1.88064891e-03, 1.86215970e-03,\n",
              "       1.81466544e-03, 1.77380987e-03, 1.76085074e-03, 1.73283909e-03,\n",
              "       1.70738317e-03, 1.68548073e-03, 1.65614929e-03, 1.63102448e-03,\n",
              "       1.58436782e-03, 1.57497542e-03, 1.53022902e-03, 1.52205247e-03,\n",
              "       1.48139151e-03, 1.46071476e-03, 1.44670526e-03, 1.42753738e-03,\n",
              "       1.38656539e-03, 1.35591695e-03, 1.34705548e-03, 1.33078158e-03,\n",
              "       1.30815550e-03, 1.30240739e-03, 1.28229864e-03, 1.24994798e-03,\n",
              "       1.22974483e-03, 1.21552960e-03, 1.19170472e-03, 1.17436497e-03,\n",
              "       1.15283702e-03, 1.13147455e-03, 1.10592054e-03, 1.09326676e-03,\n",
              "       1.07921823e-03, 1.05983611e-03, 1.02711779e-03, 1.02086442e-03,\n",
              "       1.00722080e-03, 9.84274129e-04, 9.64768328e-04, 9.38411210e-04,\n",
              "       9.23386748e-04, 9.17395339e-04, 8.98893380e-04, 8.94995590e-04,\n",
              "       8.75176393e-04, 8.70466802e-04, 8.58500025e-04, 8.34789074e-04,\n",
              "       8.27557558e-04, 8.26355241e-04, 8.11534976e-04, 7.98272745e-04,\n",
              "       7.72818789e-04, 7.58213801e-04, 7.50513383e-04, 7.28136300e-04,\n",
              "       7.18148372e-04, 7.09966903e-04, 6.97854018e-04, 6.78705081e-04,\n",
              "       6.64375012e-04, 6.50269657e-04, 6.39855199e-04, 6.30796301e-04,\n",
              "       6.21437731e-04, 6.15389578e-04, 6.02431674e-04, 5.96996321e-04,\n",
              "       5.82891574e-04, 5.75654343e-04, 5.64485244e-04, 5.57471583e-04,\n",
              "       5.45618542e-04, 5.39341176e-04, 5.29318324e-04, 5.25714158e-04,\n",
              "       5.15133326e-04, 5.05175113e-04, 5.02220396e-04, 4.88906240e-04,\n",
              "       4.84919846e-04, 4.74685040e-04, 4.69585258e-04, 4.61118783e-04,\n",
              "       4.60303801e-04, 4.50249601e-04, 4.42694120e-04, 4.37648533e-04,\n",
              "       4.29693762e-04, 4.22632660e-04, 4.16209744e-04, 4.09031341e-04,\n",
              "       4.07198954e-04, 3.98152708e-04, 3.87819397e-04, 3.85706947e-04,\n",
              "       3.79896552e-04, 3.68934940e-04, 3.62786914e-04, 3.54410253e-04,\n",
              "       3.47723424e-04, 3.46879694e-04, 3.35116336e-04, 3.32705631e-04,\n",
              "       3.26087499e-04, 3.15121893e-04, 3.02513246e-04, 2.88157589e-04,\n",
              "       2.73460298e-04, 2.67374190e-04, 2.59346227e-04, 2.53948264e-04,\n",
              "       2.46786301e-04, 2.41381782e-04, 2.38940673e-04, 2.28360155e-04,\n",
              "       2.25853592e-04, 2.24241681e-04, 2.14799624e-04, 2.08470907e-04,\n",
              "       2.04918069e-04, 1.98169379e-04, 1.96786294e-04, 1.88640947e-04,\n",
              "       1.82513335e-04, 1.80149866e-04, 1.74943506e-04, 1.71658778e-04,\n",
              "       1.67942227e-04, 1.64189168e-04, 1.56091218e-04, 1.55297886e-04,\n",
              "       1.48624880e-04, 1.46546181e-04, 1.43583547e-04, 1.38617453e-04,\n",
              "       1.36686865e-04, 1.31551749e-04, 1.24661068e-04, 1.23390418e-04,\n",
              "       1.20877808e-04, 1.18619996e-04, 1.15197016e-04, 1.11405824e-04,\n",
              "       1.08403383e-04, 1.05223256e-04, 1.03123893e-04, 9.92588958e-05,\n",
              "       9.88228438e-05, 9.69455693e-05, 9.52823210e-05, 9.29974440e-05,\n",
              "       9.09989820e-05, 9.02663923e-05, 8.94427789e-05, 8.86210791e-05,\n",
              "       8.77445408e-05, 8.50704689e-05, 8.21190530e-05, 8.18181796e-05,\n",
              "       8.06130196e-05, 7.94607761e-05, 7.82510991e-05, 7.63689785e-05,\n",
              "       7.51544933e-05, 7.40207555e-05, 7.18409342e-05, 7.10465615e-05,\n",
              "       7.02033879e-05, 6.89494913e-05, 6.80655085e-05, 6.66664300e-05,\n",
              "       6.51964162e-05, 6.48294423e-05, 6.25299230e-05, 6.17140063e-05,\n",
              "       6.09121494e-05, 5.95702112e-05, 5.94037377e-05, 5.85889363e-05,\n",
              "       5.76238866e-05, 5.70355479e-05, 5.61242824e-05, 5.45682738e-05,\n",
              "       5.32075077e-05, 5.30465083e-05, 5.16647520e-05, 5.13750513e-05,\n",
              "       4.99369873e-05, 4.86742430e-05, 4.79054318e-05, 4.71302992e-05,\n",
              "       4.62447979e-05, 4.52463762e-05, 4.41717910e-05, 4.31265005e-05,\n",
              "       4.25229326e-05, 4.20687559e-05, 4.05894218e-05, 4.04843640e-05,\n",
              "       3.99552560e-05, 3.87900310e-05, 3.85995471e-05, 3.80015416e-05,\n",
              "       3.75668437e-05, 3.63161160e-05, 3.56151852e-05, 3.49489273e-05,\n",
              "       3.46557562e-05, 3.35310985e-05, 3.30853549e-05, 3.25462528e-05,\n",
              "       3.21472588e-05, 3.17508450e-05, 3.10102254e-05, 3.04362348e-05,\n",
              "       2.93713307e-05, 2.92026712e-05, 2.88083627e-05, 2.79630436e-05,\n",
              "       2.79183138e-05, 2.76236237e-05, 2.68229223e-05, 2.62488507e-05,\n",
              "       2.59824139e-05, 2.57280496e-05, 2.51909164e-05, 2.46715706e-05,\n",
              "       2.43059206e-05, 2.41169941e-05, 2.38997283e-05, 2.30023015e-05,\n",
              "       2.29245564e-05, 2.25931186e-05, 2.24081881e-05, 2.18782455e-05,\n",
              "       2.15489086e-05, 2.15232796e-05, 2.08601439e-05, 2.07249264e-05,\n",
              "       2.01958696e-05, 1.96945960e-05, 1.95452722e-05, 1.93284986e-05,\n",
              "       1.89562436e-05, 1.86931625e-05, 1.85588477e-05, 1.82242774e-05,\n",
              "       1.80039789e-05, 1.76397623e-05, 1.72440721e-05, 1.70314181e-05,\n",
              "       1.64016994e-05, 1.63435936e-05, 1.60678606e-05, 1.58552449e-05,\n",
              "       1.58010966e-05, 1.54615655e-05, 1.52278135e-05, 1.51563314e-05,\n",
              "       1.48092237e-05, 1.46953487e-05, 1.42420454e-05, 1.42144064e-05,\n",
              "       1.36619284e-05, 1.33798700e-05, 1.30659872e-05, 1.29558943e-05,\n",
              "       1.25900181e-05, 1.23464212e-05, 1.21982128e-05, 1.18778128e-05,\n",
              "       1.15557944e-05, 1.13628988e-05, 1.10719577e-05, 1.09822315e-05,\n",
              "       1.05666034e-05, 1.04422367e-05, 1.02480568e-05, 9.82805368e-06,\n",
              "       9.69092549e-06, 9.53627675e-06, 9.31336629e-06, 9.04589770e-06,\n",
              "       8.75117177e-06, 8.38200492e-06, 8.18681681e-06, 8.15081335e-06,\n",
              "       7.87885163e-06, 7.65430430e-06, 7.50252471e-06, 7.17399929e-06,\n",
              "       6.91564293e-06, 6.73227208e-06, 6.56161178e-06, 6.52174138e-06,\n",
              "       6.21692271e-06, 6.02829911e-06, 5.95882675e-06, 5.81943313e-06,\n",
              "       5.46080815e-06, 5.34404091e-06, 5.32498828e-06, 5.05723893e-06,\n",
              "       5.01036642e-06, 4.72015529e-06, 4.64502736e-06, 4.49348997e-06,\n",
              "       4.37281993e-06, 4.13485798e-06, 4.10642526e-06, 4.00889186e-06,\n",
              "       3.93487802e-06, 3.83746982e-06, 3.74779938e-06, 3.61352061e-06,\n",
              "       3.50801719e-06, 3.47872092e-06, 3.28233620e-06, 3.15085651e-06,\n",
              "       3.08065556e-06, 2.97070882e-06, 2.69378376e-06, 2.60914876e-06,\n",
              "       2.57978556e-06, 2.51491779e-06, 2.29127111e-06, 2.21911987e-06,\n",
              "       2.13682769e-06, 2.06123188e-06, 2.04878243e-06, 2.00866015e-06,\n",
              "       1.94607344e-06, 1.87380562e-06, 1.64088158e-06, 1.58105832e-06,\n",
              "       1.52027815e-06, 1.46509503e-06, 1.35798259e-06, 1.32109360e-06,\n",
              "       1.30549314e-06, 1.24436515e-06, 1.17700506e-06, 1.12820607e-06,\n",
              "       1.07694883e-06, 1.01257449e-06, 9.66671981e-07, 9.26166884e-07,\n",
              "       8.95073667e-07, 8.64892827e-07, 8.16942676e-07, 7.83851669e-07,\n",
              "       7.51111834e-07, 7.23640630e-07, 7.09784805e-07, 6.82083730e-07,\n",
              "       6.74328151e-07, 6.39801988e-07, 6.18445445e-07, 5.98594531e-07,\n",
              "       5.80967584e-07, 5.65441587e-07, 5.41352962e-07, 5.25957596e-07,\n",
              "       4.88288359e-07, 4.80361420e-07, 4.63931067e-07, 4.25119338e-07,\n",
              "       4.10076367e-07, 3.85009426e-07, 3.69754012e-07, 3.59867712e-07,\n",
              "       3.56664245e-07, 3.49621265e-07, 3.09570879e-07, 2.98237486e-07,\n",
              "       2.73805438e-07, 2.64106544e-07, 2.57003377e-07, 2.28527719e-07,\n",
              "       2.06938131e-07, 2.02960791e-07, 1.45318804e-07, 7.17597916e-08,\n",
              "       4.58553418e-08, 4.11180794e-08, 3.48109205e-08, 3.36982085e-08,\n",
              "       2.71295443e-08, 2.64190551e-08, 2.26469504e-08, 2.15367162e-08,\n",
              "       2.04918619e-08, 1.73888902e-08, 1.64903860e-08, 1.15757009e-08,\n",
              "       1.13994859e-08, 1.01919403e-08, 9.22868025e-09, 7.24687376e-09,\n",
              "       6.71738896e-09, 6.01631216e-09, 5.52037578e-09, 4.13158921e-09,\n",
              "       2.41778928e-10, 1.44927754e-10, 1.02644878e-10, 3.71716952e-12,\n",
              "       1.07963161e-12, 2.79609647e-13, 3.05919265e-18, 2.85305833e-18,\n",
              "       2.61777085e-18, 2.19589314e-18, 1.85000601e-18, 1.79946560e-18,\n",
              "       1.70964629e-18, 1.68477125e-18, 1.63807016e-18, 1.52806800e-18,\n",
              "       1.38547145e-18, 1.24618426e-18, 1.16244945e-18, 1.14116910e-18,\n",
              "       1.12994884e-18, 1.07105811e-18, 1.02183566e-18, 8.82089783e-19,\n",
              "       8.68452913e-19, 8.56499394e-19, 8.14750942e-19, 8.05791102e-19,\n",
              "       7.93815101e-19, 7.65918913e-19, 7.42078118e-19, 7.11946831e-19,\n",
              "       6.84805463e-19, 6.34245466e-19, 6.14131090e-19, 6.00408212e-19,\n",
              "       5.81183053e-19, 5.40129482e-19, 5.01766995e-19, 4.70580991e-19,\n",
              "       4.30603121e-19, 4.18487614e-19, 4.15668310e-19, 3.95407525e-19,\n",
              "       3.85968429e-19, 3.68450582e-19, 3.55946360e-19, 3.52230882e-19,\n",
              "       3.45008139e-19, 3.38621346e-19, 3.32820888e-19, 3.24620531e-19,\n",
              "       3.22984448e-19, 3.07309215e-19, 3.01219932e-19, 2.93706724e-19,\n",
              "       2.88633463e-19, 2.77526207e-19, 2.68853035e-19, 2.60571290e-19,\n",
              "       2.54818638e-19, 2.52455842e-19, 2.44925858e-19, 2.42984428e-19,\n",
              "       2.33758421e-19, 2.26436117e-19, 2.09600185e-19, 1.93310876e-19,\n",
              "       1.90445476e-19, 1.80300373e-19, 1.74557377e-19, 1.45830101e-19,\n",
              "       1.37175292e-19, 9.85387139e-20, 7.23230701e-20, 5.67236995e-20,\n",
              "       3.24903205e-33, 3.24903205e-33, 3.24903205e-33, 3.24903205e-33,\n",
              "       3.24903205e-33, 3.24903205e-33, 3.24903205e-33, 3.24903205e-33,\n",
              "       3.24903205e-33, 3.24903205e-33, 3.24903205e-33, 3.24903205e-33,\n",
              "       3.24903205e-33, 3.24903205e-33, 3.24903205e-33, 3.24903205e-33,\n",
              "       3.24903205e-33, 3.24903205e-33, 3.24903205e-33, 7.66563392e-35,\n",
              "       9.47509035e-36])"
            ]
          },
          "metadata": {
            "tags": []
          },
          "execution_count": 56
        }
      ]
    },
    {
      "cell_type": "code",
      "metadata": {
        "id": "KeHhdBym44N1",
        "colab_type": "code",
        "colab": {
          "base_uri": "https://localhost:8080/",
          "height": 243
        },
        "outputId": "9fd006d2-a815-437d-9481-eef264a95dbc"
      },
      "source": [
        "print(X_train)"
      ],
      "execution_count": null,
      "outputs": [
        {
          "output_type": "stream",
          "text": [
            "[[-1.61385437e+01  2.15202401e+00  3.14478025e+00 ... -2.22286869e-15\n",
            "  -1.51050109e-16  6.47538499e-17]\n",
            " [-1.52961943e+01  1.38714378e+00 -6.82221071e-01 ...  2.48612485e-15\n",
            "  -3.18052555e-16 -3.64024836e-17]\n",
            " [-1.51370186e+01  2.47335094e+00 -1.75664057e+00 ...  2.12538114e-15\n",
            "  -2.86861012e-16  5.43437906e-17]\n",
            " ...\n",
            " [ 1.43334359e+01 -1.22607119e+01  4.02594620e+00 ...  1.68640744e-15\n",
            "   1.67476428e-18 -2.95413699e-17]\n",
            " [ 1.28760189e+01 -1.40712559e+01  2.91606098e+00 ...  1.38235658e-15\n",
            "   8.20636471e-17 -5.78949584e-18]\n",
            " [ 1.30161037e+01 -1.22442612e+01  1.33604965e+00 ...  1.13641911e-15\n",
            "  -1.07900054e-16 -3.34315683e-17]]\n"
          ],
          "name": "stdout"
        }
      ]
    },
    {
      "cell_type": "markdown",
      "metadata": {
        "id": "qAWKFWWNLVL6",
        "colab_type": "text"
      },
      "source": [
        "# **Modeling**"
      ]
    },
    {
      "cell_type": "code",
      "metadata": {
        "id": "KVVqMZqZLUwz",
        "colab_type": "code",
        "colab": {}
      },
      "source": [
        "from keras.models import Sequential\n",
        "from keras.layers import Dense,Dropout"
      ],
      "execution_count": null,
      "outputs": []
    },
    {
      "cell_type": "markdown",
      "metadata": {
        "id": "95FeCpFAiKYH",
        "colab_type": "text"
      },
      "source": [
        "**Using Artificial Neural Network**"
      ]
    },
    {
      "cell_type": "code",
      "metadata": {
        "id": "SOr9TwA8LJYK",
        "colab_type": "code",
        "colab": {}
      },
      "source": [
        "model=Sequential()\n",
        "\n",
        "model.add(Dense(units=64,kernel_initializer='uniform',activation='relu',input_dim=X_train.shape[1]))\n",
        "\n",
        "model.add(Dense(units=128,kernel_initializer='uniform',activation='relu'))\n",
        "\n",
        "model.add(Dense(units=64,kernel_initializer='uniform',activation='relu'))\n",
        "\n",
        "model.add(Dense(units=6,kernel_initializer='uniform',activation='softmax'))\n"
      ],
      "execution_count": null,
      "outputs": []
    },
    {
      "cell_type": "code",
      "metadata": {
        "id": "Szw9nlx-OsuX",
        "colab_type": "code",
        "colab": {}
      },
      "source": [
        "model.compile(optimizer='adam', loss='categorical_crossentropy', metrics=['accuracy'])"
      ],
      "execution_count": null,
      "outputs": []
    },
    {
      "cell_type": "code",
      "metadata": {
        "id": "PzB7yLQjRv3Y",
        "colab_type": "code",
        "colab": {
          "base_uri": "https://localhost:8080/",
          "height": 780
        },
        "outputId": "249dbe23-7018-47b2-b6f1-0a866dfe2edd"
      },
      "source": [
        "history=model.fit(X_train, y_train, batch_size=256, epochs=22, validation_data=(X_test, y_test))"
      ],
      "execution_count": null,
      "outputs": [
        {
          "output_type": "stream",
          "text": [
            "Epoch 1/22\n",
            "29/29 [==============================] - 0s 8ms/step - loss: 1.5685 - accuracy: 0.3648 - val_loss: 1.0866 - val_accuracy: 0.3750\n",
            "Epoch 2/22\n",
            "29/29 [==============================] - 0s 4ms/step - loss: 0.6892 - accuracy: 0.7263 - val_loss: 0.3827 - val_accuracy: 0.8147\n",
            "Epoch 3/22\n",
            "29/29 [==============================] - 0s 5ms/step - loss: 0.2531 - accuracy: 0.8811 - val_loss: 0.2128 - val_accuracy: 0.9121\n",
            "Epoch 4/22\n",
            "29/29 [==============================] - 0s 4ms/step - loss: 0.0862 - accuracy: 0.9705 - val_loss: 0.1649 - val_accuracy: 0.9403\n",
            "Epoch 5/22\n",
            "29/29 [==============================] - 0s 5ms/step - loss: 0.0389 - accuracy: 0.9863 - val_loss: 0.1602 - val_accuracy: 0.9447\n",
            "Epoch 6/22\n",
            "29/29 [==============================] - 0s 4ms/step - loss: 0.0271 - accuracy: 0.9909 - val_loss: 0.1572 - val_accuracy: 0.9484\n",
            "Epoch 7/22\n",
            "29/29 [==============================] - 0s 4ms/step - loss: 0.0207 - accuracy: 0.9937 - val_loss: 0.1784 - val_accuracy: 0.9471\n",
            "Epoch 8/22\n",
            "29/29 [==============================] - 0s 4ms/step - loss: 0.0167 - accuracy: 0.9951 - val_loss: 0.1806 - val_accuracy: 0.9454\n",
            "Epoch 9/22\n",
            "29/29 [==============================] - 0s 4ms/step - loss: 0.0138 - accuracy: 0.9961 - val_loss: 0.1646 - val_accuracy: 0.9511\n",
            "Epoch 10/22\n",
            "29/29 [==============================] - 0s 4ms/step - loss: 0.0098 - accuracy: 0.9970 - val_loss: 0.1911 - val_accuracy: 0.9464\n",
            "Epoch 11/22\n",
            "29/29 [==============================] - 0s 4ms/step - loss: 0.0083 - accuracy: 0.9978 - val_loss: 0.2058 - val_accuracy: 0.9454\n",
            "Epoch 12/22\n",
            "29/29 [==============================] - 0s 4ms/step - loss: 0.0060 - accuracy: 0.9985 - val_loss: 0.1887 - val_accuracy: 0.9501\n",
            "Epoch 13/22\n",
            "29/29 [==============================] - 0s 4ms/step - loss: 0.0045 - accuracy: 0.9992 - val_loss: 0.2086 - val_accuracy: 0.9467\n",
            "Epoch 14/22\n",
            "29/29 [==============================] - 0s 4ms/step - loss: 0.0029 - accuracy: 0.9996 - val_loss: 0.2165 - val_accuracy: 0.9457\n",
            "Epoch 15/22\n",
            "29/29 [==============================] - 0s 4ms/step - loss: 0.0023 - accuracy: 0.9999 - val_loss: 0.2195 - val_accuracy: 0.9474\n",
            "Epoch 16/22\n",
            "29/29 [==============================] - 0s 4ms/step - loss: 0.0017 - accuracy: 0.9997 - val_loss: 0.2266 - val_accuracy: 0.9474\n",
            "Epoch 17/22\n",
            "29/29 [==============================] - 0s 4ms/step - loss: 0.0012 - accuracy: 1.0000 - val_loss: 0.2377 - val_accuracy: 0.9471\n",
            "Epoch 18/22\n",
            "29/29 [==============================] - 0s 4ms/step - loss: 9.3950e-04 - accuracy: 1.0000 - val_loss: 0.2315 - val_accuracy: 0.9481\n",
            "Epoch 19/22\n",
            "29/29 [==============================] - 0s 4ms/step - loss: 7.6364e-04 - accuracy: 1.0000 - val_loss: 0.2413 - val_accuracy: 0.9481\n",
            "Epoch 20/22\n",
            "29/29 [==============================] - 0s 4ms/step - loss: 5.7334e-04 - accuracy: 1.0000 - val_loss: 0.2411 - val_accuracy: 0.9488\n",
            "Epoch 21/22\n",
            "29/29 [==============================] - 0s 4ms/step - loss: 5.4644e-04 - accuracy: 1.0000 - val_loss: 0.2431 - val_accuracy: 0.9484\n",
            "Epoch 22/22\n",
            "29/29 [==============================] - 0s 4ms/step - loss: 4.3937e-04 - accuracy: 1.0000 - val_loss: 0.2518 - val_accuracy: 0.9477\n"
          ],
          "name": "stdout"
        }
      ]
    },
    {
      "cell_type": "markdown",
      "metadata": {
        "id": "oDAgrzHP7QUp",
        "colab_type": "text"
      },
      "source": [
        "# **Analysing Accuracy**"
      ]
    },
    {
      "cell_type": "code",
      "metadata": {
        "id": "EV1nrrWGYaNe",
        "colab_type": "code",
        "colab": {
          "base_uri": "https://localhost:8080/",
          "height": 573
        },
        "outputId": "ef2eea51-ebad-423d-8e9d-5912da53caa0"
      },
      "source": [
        "from pylab import rcParams\n",
        "rcParams['figure.figsize']=10,4\n",
        "plt.plot(history.history['accuracy'])\n",
        "plt.plot(history.history['val_accuracy'])\n",
        "plt.title('model accuracy')\n",
        "plt.ylabel('accuracy')\n",
        "plt.xlabel('epoch')\n",
        "plt.legend(['train','test'],loc='upper left')\n",
        "plt.show()\n",
        "\n",
        "\n",
        "plt.plot(history.history['loss'])\n",
        "plt.plot(history.history['val_loss'])\n",
        "plt.title('model loss')\n",
        "plt.ylabel('loss')\n",
        "plt.xlabel('epoch')\n",
        "plt.legend(['train','test'], loc='upper left')\n",
        "plt.show()\n",
        "\n"
      ],
      "execution_count": null,
      "outputs": [
        {
          "output_type": "display_data",
          "data": {
            "image/png": "[encoded data removed]",
            "text/plain": [
              "<Figure size 720x288 with 1 Axes>"
            ]
          },
          "metadata": {
            "tags": [],
            "needs_background": "light"
          }
        },
        {
          "output_type": "display_data",
          "data": {
            "image/png": "[encoded data removed]",
            "text/plain": [
              "<Figure size 720x288 with 1 Axes>"
            ]
          },
          "metadata": {
            "tags": [],
            "needs_background": "light"
          }
        }
      ]
    },
    {
      "cell_type": "markdown",
      "metadata": {
        "id": "2VD_VqY6qa5l",
        "colab_type": "text"
      },
      "source": [
        "# **Prediction**"
      ]
    },
    {
      "cell_type": "code",
      "metadata": {
        "id": "1gNCXvrPeqPu",
        "colab_type": "code",
        "colab": {}
      },
      "source": [
        "y_pred=model.predict(X_test)"
      ],
      "execution_count": null,
      "outputs": []
    },
    {
      "cell_type": "code",
      "metadata": {
        "id": "gHU8ZY_sspQA",
        "colab_type": "code",
        "colab": {
          "base_uri": "https://localhost:8080/",
          "height": 243
        },
        "outputId": "3b5a409d-8986-4039-9c3a-e7dfe58a79d6"
      },
      "source": [
        "print(y_pred)"
      ],
      "execution_count": null,
      "outputs": [
        {
          "output_type": "stream",
          "text": [
            "[[2.6584654e-10 4.4046651e-06 9.9999559e-01 2.0603958e-11 1.7866259e-16\n",
            "  6.0841353e-11]\n",
            " [3.6108400e-08 6.7180069e-04 9.9932814e-01 3.4191339e-10 1.7573246e-15\n",
            "  1.1020097e-10]\n",
            " [3.1387235e-06 7.2447523e-02 9.2754936e-01 2.2504789e-08 2.1256961e-13\n",
            "  1.1148559e-09]\n",
            " ...\n",
            " [2.8471652e-06 7.5495414e-09 5.1443177e-08 6.8821578e-06 1.7592351e-05\n",
            "  9.9997258e-01]\n",
            " [1.6247057e-05 1.6255424e-07 4.2928423e-07 7.4462841e-05 9.0336136e-05\n",
            "  9.9981838e-01]\n",
            " [4.2229069e-05 3.2352639e-06 6.7663230e-08 4.6344502e-03 1.0776724e-03\n",
            "  9.9424237e-01]]\n"
          ],
          "name": "stdout"
        }
      ]
    },
    {
      "cell_type": "code",
      "metadata": {
        "id": "2ppJTBsDqqo-",
        "colab_type": "code",
        "colab": {}
      },
      "source": [
        "y_test_class=np.argmax(y_test,axis=1)\n",
        "y_pred_class=np.argmax(y_pred,axis=1)"
      ],
      "execution_count": null,
      "outputs": []
    },
    {
      "cell_type": "code",
      "metadata": {
        "id": "Ep4BvWPzrSun",
        "colab_type": "code",
        "colab": {
          "base_uri": "https://localhost:8080/",
          "height": 35
        },
        "outputId": "976996b6-2d88-42fa-9dca-c6bb965c9220"
      },
      "source": [
        "y_test_class"
      ],
      "execution_count": null,
      "outputs": [
        {
          "output_type": "execute_result",
          "data": {
            "text/plain": [
              "array([2, 2, 2, ..., 5, 5, 5])"
            ]
          },
          "metadata": {
            "tags": []
          },
          "execution_count": 65
        }
      ]
    },
    {
      "cell_type": "code",
      "metadata": {
        "id": "0yIH7T9HraCI",
        "colab_type": "code",
        "colab": {
          "base_uri": "https://localhost:8080/",
          "height": 35
        },
        "outputId": "7d03a356-2043-498b-889f-9c024576f71d"
      },
      "source": [
        "y_pred_class"
      ],
      "execution_count": null,
      "outputs": [
        {
          "output_type": "execute_result",
          "data": {
            "text/plain": [
              "array([2, 2, 2, ..., 5, 5, 5])"
            ]
          },
          "metadata": {
            "tags": []
          },
          "execution_count": 66
        }
      ]
    },
    {
      "cell_type": "markdown",
      "metadata": {
        "id": "uRRkAq6OrgjB",
        "colab_type": "text"
      },
      "source": [
        "# **Accuracy**"
      ]
    },
    {
      "cell_type": "code",
      "metadata": {
        "id": "UzqYxwlwrcwj",
        "colab_type": "code",
        "colab": {}
      },
      "source": [
        "from sklearn.metrics import confusion_matrix , accuracy_score \n",
        "cm=confusion_matrix(y_test_class,y_pred_class)\n",
        "accuracy=accuracy_score(y_test_class, y_pred_class)"
      ],
      "execution_count": null,
      "outputs": []
    },
    {
      "cell_type": "code",
      "metadata": {
        "id": "Ib7UIdfKroo_",
        "colab_type": "code",
        "colab": {
          "base_uri": "https://localhost:8080/",
          "height": 121
        },
        "outputId": "e743343f-9f73-496e-9efc-dfeb42fd0580"
      },
      "source": [
        "cm"
      ],
      "execution_count": null,
      "outputs": [
        {
          "output_type": "execute_result",
          "data": {
            "text/plain": [
              "array([[516,   0,  21,   0,   0,   0],\n",
              "       [  0, 432,  58,   0,   0,   1],\n",
              "       [  0,  17, 515,   0,   0,   0],\n",
              "       [  0,   0,   0, 495,   0,   1],\n",
              "       [  0,   0,   0,   6, 404,  10],\n",
              "       [  0,   0,   0,  29,  11, 431]])"
            ]
          },
          "metadata": {
            "tags": []
          },
          "execution_count": 68
        }
      ]
    },
    {
      "cell_type": "code",
      "metadata": {
        "id": "k6n5SWaUukx1",
        "colab_type": "code",
        "colab": {
          "base_uri": "https://localhost:8080/",
          "height": 35
        },
        "outputId": "61d5de56-1159-461f-b9a5-a0ce4665b445"
      },
      "source": [
        "accuracy"
      ],
      "execution_count": null,
      "outputs": [
        {
          "output_type": "execute_result",
          "data": {
            "text/plain": [
              "0.9477434679334917"
            ]
          },
          "metadata": {
            "tags": []
          },
          "execution_count": 69
        }
      ]
    },
    {
      "cell_type": "markdown",
      "metadata": {
        "id": "mJw28wc1jpTr",
        "colab_type": "text"
      },
      "source": [
        "We have reached 94% accuracy using ANN "
      ]
    }
  ]
}